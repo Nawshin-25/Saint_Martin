{
  "nbformat": 4,
  "nbformat_minor": 0,
  "metadata": {
    "colab": {
      "provenance": [],
      "authorship_tag": "ABX9TyPw44towyilezyOdXS+7/Mf",
      "include_colab_link": true
    },
    "kernelspec": {
      "name": "python3",
      "display_name": "Python 3"
    },
    "language_info": {
      "name": "python"
    }
  },
  "cells": [
    {
      "cell_type": "markdown",
      "metadata": {
        "id": "view-in-github",
        "colab_type": "text"
      },
      "source": [
        "<a href=\"https://colab.research.google.com/github/Nawshin-25/Saint_Martin/blob/main/NDVI_TS.ipynb\" target=\"_parent\"><img src=\"https://colab.research.google.com/assets/colab-badge.svg\" alt=\"Open In Colab\"/></a>"
      ]
    },
    {
      "cell_type": "code",
      "source": [
        "from google.colab import drive\n",
        "drive.mount('/content/drive')"
      ],
      "metadata": {
        "colab": {
          "base_uri": "https://localhost:8080/"
        },
        "id": "mgNrtSeNxQ2a",
        "outputId": "300c1d36-079b-473e-b791-d644700512fc"
      },
      "execution_count": null,
      "outputs": [
        {
          "output_type": "stream",
          "name": "stdout",
          "text": [
            "Mounted at /content/drive\n"
          ]
        }
      ]
    },
    {
      "cell_type": "code",
      "source": [
        "pip install rasterio"
      ],
      "metadata": {
        "colab": {
          "base_uri": "https://localhost:8080/"
        },
        "id": "DKVFQ6PEc9Pj",
        "outputId": "ff4c2e40-00c5-4adc-986f-08338275165e"
      },
      "execution_count": null,
      "outputs": [
        {
          "output_type": "stream",
          "name": "stdout",
          "text": [
            "Collecting rasterio\n",
            "  Downloading rasterio-1.4.2-cp310-cp310-manylinux_2_17_x86_64.manylinux2014_x86_64.whl.metadata (9.1 kB)\n",
            "Collecting affine (from rasterio)\n",
            "  Downloading affine-2.4.0-py3-none-any.whl.metadata (4.0 kB)\n",
            "Requirement already satisfied: attrs in /usr/local/lib/python3.10/dist-packages (from rasterio) (24.2.0)\n",
            "Requirement already satisfied: certifi in /usr/local/lib/python3.10/dist-packages (from rasterio) (2024.8.30)\n",
            "Requirement already satisfied: click>=4.0 in /usr/local/lib/python3.10/dist-packages (from rasterio) (8.1.7)\n",
            "Collecting cligj>=0.5 (from rasterio)\n",
            "  Downloading cligj-0.7.2-py3-none-any.whl.metadata (5.0 kB)\n",
            "Requirement already satisfied: numpy>=1.24 in /usr/local/lib/python3.10/dist-packages (from rasterio) (1.26.4)\n",
            "Collecting click-plugins (from rasterio)\n",
            "  Downloading click_plugins-1.1.1-py2.py3-none-any.whl.metadata (6.4 kB)\n",
            "Requirement already satisfied: pyparsing in /usr/local/lib/python3.10/dist-packages (from rasterio) (3.2.0)\n",
            "Downloading rasterio-1.4.2-cp310-cp310-manylinux_2_17_x86_64.manylinux2014_x86_64.whl (22.2 MB)\n",
            "\u001b[2K   \u001b[90m━━━━━━━━━━━━━━━━━━━━━━━━━━━━━━━━━━━━━━━━\u001b[0m \u001b[32m22.2/22.2 MB\u001b[0m \u001b[31m40.8 MB/s\u001b[0m eta \u001b[36m0:00:00\u001b[0m\n",
            "\u001b[?25hDownloading cligj-0.7.2-py3-none-any.whl (7.1 kB)\n",
            "Downloading affine-2.4.0-py3-none-any.whl (15 kB)\n",
            "Downloading click_plugins-1.1.1-py2.py3-none-any.whl (7.5 kB)\n",
            "Installing collected packages: cligj, click-plugins, affine, rasterio\n",
            "Successfully installed affine-2.4.0 click-plugins-1.1.1 cligj-0.7.2 rasterio-1.4.2\n"
          ]
        }
      ]
    },
    {
      "cell_type": "code",
      "source": [
        "import rasterio\n",
        "import numpy as np\n",
        "import matplotlib.pyplot as plt\n",
        "import os"
      ],
      "metadata": {
        "id": "ETLgDjoCzvk0"
      },
      "execution_count": null,
      "outputs": []
    },
    {
      "cell_type": "code",
      "source": [
        "ndvi_files = {\n",
        "    '1990': '/content/drive/MyDrive/Data/NDVI/ST_NDVI90.tif',\n",
        "    '1991': '/content/drive/MyDrive/Data/NDVI/ST_NDVI91.tif',\n",
        "    '1992': '/content/drive/MyDrive/Data/NDVI/ST_NDVI92.tif',\n",
        "    '1993': '/content/drive/MyDrive/Data/NDVI/ST_NDVI93.tif',\n",
        "    '1994': '/content/drive/MyDrive/Data/NDVI/ST_NDVI94.tif',\n",
        "    '1995': '/content/drive/MyDrive/Data/NDVI/ST_NDVI95.tif',\n",
        "    '1996': '/content/drive/MyDrive/Data/NDVI/ST_NDVI96.tif',\n",
        "    '1997': '/content/drive/MyDrive/Data/NDVI/ST_NDVI97.tif',\n",
        "    '1998': '/content/drive/MyDrive/Data/NDVI/ST_NDVI98.tif',\n",
        "    '1999': '/content/drive/MyDrive/Data/NDVI/ST_NDVI99.tif',\n",
        "    '2000': '/content/drive/MyDrive/Data/NDVI/ST_NDVI00.tif',\n",
        "    '2001': '/content/drive/MyDrive/Data/NDVI/ST_NDVI01.tif',\n",
        "    '2003': '/content/drive/MyDrive/Data/NDVI/ST_NDVI03.tif',\n",
        "    '2004': '/content/drive/MyDrive/Data/NDVI/ST_NDVI04.tif',\n",
        "    '2005': '/content/drive/MyDrive/Data/NDVI/ST_NDVI05.tif',\n",
        "    '2006': '/content/drive/MyDrive/Data/NDVI/ST_NDVI06.tif',\n",
        "    '2007': '/content/drive/MyDrive/Data/NDVI/ST_NDVI07.tif',\n",
        "    '2008': '/content/drive/MyDrive/Data/NDVI/ST_NDVI08.tif',\n",
        "    '2009': '/content/drive/MyDrive/Data/NDVI/ST_NDVI09.tif',\n",
        "    '2010': '/content/drive/MyDrive/Data/NDVI/ST_NDVI10.tif',\n",
        "    '2011': '/content/drive/MyDrive/Data/NDVI/ST_NDVI11.tif',\n",
        "    '2013': '/content/drive/MyDrive/Data/NDVI/ST_NDVI13.tif',\n",
        "    '2014': '/content/drive/MyDrive/Data/NDVI/ST_NDVI14.tif',\n",
        "    '2015': '/content/drive/MyDrive/Data/NDVI/ST_NDVI15.tif',\n",
        "    '2016': '/content/drive/MyDrive/Data/NDVI/ST_NDVI16.tif',\n",
        "    '2017': '/content/drive/MyDrive/Data/NDVI/ST_NDVI17.tif',\n",
        "    '2018': '/content/drive/MyDrive/Data/NDVI/ST_NDVI18.tif',\n",
        "    '2019': '/content/drive/MyDrive/Data/NDVI/ST_NDVI19.tif',\n",
        "    '2020': '/content/drive/MyDrive/Data/NDVI/ST_NDVI20.tif',\n",
        "    '2021': '/content/drive/MyDrive/Data/NDVI/ST_NDVI21.tif',\n",
        "    '2022': '/content/drive/MyDrive/Data/NDVI/ST_NDVI22.tif',\n",
        "    '2023': '/content/drive/MyDrive/Data/NDVI/ST_NDVI23.tif',\n",
        "    '2024': '/content/drive/MyDrive/Data/NDVI/ST_NDVI24.tif'\n",
        "}"
      ],
      "metadata": {
        "id": "8w8sOkg_z8ps"
      },
      "execution_count": null,
      "outputs": []
    },
    {
      "cell_type": "code",
      "source": [
        "def calculate_mean_ndvi(file_path):\n",
        "    with rasterio.open(file_path) as src:\n",
        "        ndvi_data = src.read(1)  # Read the first band\n",
        "        ndvi_data = ndvi_data.astype(float)\n",
        "        ndvi_data[ndvi_data == src.nodata] = np.nan  # Replace nodata values with NaN\n",
        "        mean_ndvi = np.nanmean(ndvi_data)  # Calculate mean NDVI ignoring NaNs\n",
        "        return mean_ndvi"
      ],
      "metadata": {
        "id": "pLhyGrm_08WE"
      },
      "execution_count": null,
      "outputs": []
    },
    {
      "cell_type": "code",
      "source": [
        "ndvi_means = {}\n",
        "for year, file_path in ndvi_files.items():\n",
        "    ndvi_means[year] = calculate_mean_ndvi(file_path)"
      ],
      "metadata": {
        "id": "ZEnJNzDl1EMD"
      },
      "execution_count": null,
      "outputs": []
    },
    {
      "cell_type": "code",
      "source": [
        "years = list(ndvi_means.keys())\n",
        "mean_values = list(ndvi_means.values())\n",
        "\n",
        "plt.figure(figsize=(10, 6))\n",
        "plt.plot(years, mean_values, marker='o', linestyle='-', color='green')\n",
        "plt.xlabel('Year')\n",
        "plt.ylabel('Mean NDVI')\n",
        "plt.xticks(years[::5])\n",
        "plt.show()"
      ],
      "metadata": {
        "id": "De1-Gh5n1Js0"
      },
      "execution_count": null,
      "outputs": []
    }
  ]
}